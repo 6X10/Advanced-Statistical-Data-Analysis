{
  "cells": [
    {
      "cell_type": "markdown",
      "metadata": {
        "id": "view-in-github",
        "colab_type": "text"
      },
      "source": [
        "<a href=\"https://colab.research.google.com/github/6X10/advanced-statistical-data-analysis/blob/main/naive_bayes_classifier_practice.ipynb\" target=\"_parent\"><img src=\"https://colab.research.google.com/assets/colab-badge.svg\" alt=\"Open In Colab\"/></a>"
      ]
    },
    {
      "cell_type": "code",
      "execution_count": null,
      "id": "42ba342b",
      "metadata": {
        "id": "42ba342b"
      },
      "outputs": [],
      "source": [
        "import scipy.io as sio\n",
        "import numpy as np\n",
        "import matplotlib.pyplot as plt\n",
        "%matplotlib inline\n",
        "from time import time"
      ]
    },
    {
      "cell_type": "code",
      "source": [
        "from google.colab import drive\n",
        "drive.mount('/content/drive')"
      ],
      "metadata": {
        "colab": {
          "base_uri": "https://localhost:8080/"
        },
        "id": "5lud9w6lUbyt",
        "outputId": "241a7148-9980-4e8c-9df5-5c5af060919f"
      },
      "id": "5lud9w6lUbyt",
      "execution_count": null,
      "outputs": [
        {
          "output_type": "stream",
          "name": "stdout",
          "text": [
            "Mounted at /content/drive\n"
          ]
        }
      ]
    },
    {
      "cell_type": "code",
      "execution_count": null,
      "id": "209aa472",
      "metadata": {
        "colab": {
          "base_uri": "https://localhost:8080/"
        },
        "id": "209aa472",
        "outputId": "01985b5c-0fd4-4c50-c07a-317b4f8beffe"
      },
      "outputs": [
        {
          "output_type": "stream",
          "name": "stdout",
          "text": [
            "['holes', 'must', 'top_secret', 'he', 'center', 'other_civilans', 'the_pacific', 'the_navy', 'a_lot', 'surface_must', 'this_book', 'man_named', '<num>_feet', 'would_strongly', 'put_down', 'norman_johnson', 'lawes', 'a_top', 'the_support', 'ten']\n"
          ]
        }
      ],
      "source": [
        "data = sio.loadmat('/content/drive/MyDrive/Colab Notebooks/sentimentdataset.mat', chars_as_strings=1, matlab_compatible=1)\n",
        "\n",
        "bagofword = data['bagofword']\n",
        "sentiment = data['sentiment']\n",
        "sentiment = sentiment.astype(int) #type을 0 or 1로 할 것\n",
        "words = data['word']\n",
        "\n",
        "# join character to word\n",
        "# ex.) [['h', 'o', 'l', 'e', 's']]  -> \"holes\"\n",
        "word = []\n",
        "for n in range(20): #어떤 단어 있는지 앞에서부터 20개 뽑음 뽑음\n",
        "    word = word + [str(''.join(letter)) for letter in words[n][0]]\n",
        "print(word) #<num>처럼 숫자가 들어가는 자리는, number를 indacate하는 indicator로 변환해서 데이터가 존재하기도 하고 다양함. 단어 아닌 것도 있는데 편의상 단어라고 하자"
      ]
    },
    {
      "cell_type": "code",
      "execution_count": null,
      "id": "44698abd",
      "metadata": {
        "id": "44698abd",
        "colab": {
          "base_uri": "https://localhost:8080/"
        },
        "outputId": "8b08051e-a1cc-439e-990c-1d8368fb7ef2"
      },
      "outputs": [
        {
          "output_type": "stream",
          "name": "stdout",
          "text": [
            "0.9887804985046387\n",
            "1.9936883449554443\n",
            "2.9901676177978516\n",
            "3.983275890350342\n",
            "4.974210262298584\n",
            "5.957477807998657\n",
            "6.973687410354614\n",
            "7.97275185585022\n",
            "8.970333099365234\n",
            "10.007922172546387\n",
            "11.039089441299438\n",
            "12.054641008377075\n",
            "13.072842359542847\n",
            "14.083300590515137\n",
            "15.106282472610474\n",
            "17.06110954284668\n",
            "19.08511447906494\n",
            "20.138810873031616\n",
            "21.175106287002563\n",
            "22.22637963294983\n",
            "23.2724392414093\n",
            "24.302120685577393\n",
            "25.344395637512207\n",
            "26.40345859527588\n",
            "27.462684154510498\n",
            "28.534998893737793\n",
            "29.730842113494873\n",
            "31.07116198539734\n",
            "32.13062334060669\n",
            "33.183823347091675\n",
            "34.24005675315857\n",
            "35.28959774971008\n",
            "36.374205589294434\n",
            "37.43371343612671\n",
            "38.492871046066284\n",
            "39.55319142341614\n",
            "40.64537191390991\n",
            "41.72383666038513\n",
            "42.787530183792114\n",
            "43.90414762496948\n",
            "45.00582003593445\n",
            "46.0952467918396\n"
          ]
        }
      ],
      "source": [
        "numDoc = len(bagofword) # number of documents (총)\n",
        "numTesting = 50 # number of testing documents\n",
        "numVoca = 1000 # number of vocabs, use small number (ex. 1000) for debugging (단어장의 총 단어 개수. debugging할 때는 코드 빨리빨리 돌아야 하므로, 임의로 세팅해놓고 코드 잘 도는 거 확인하면서 하기)\n",
        "step = (numDoc-numTesting)//10 # number of steps of increment of training documents (line 18번과 관련. 처음에는 10개의 document만, 그 다음에는 20, 30...개를 training data로 사용할 것 by for loop. 그래서 총 step 까지 iteration 돌리겠다)\n",
        "repeat = 3 # number of repetition, use small number (ex. 3) for debugging (한 번 해서 나온 실험 결과는 믿을 수 없음. 최소 5번 반복해서 평균적인 성능(ex.average accuracy, 그것에 대한 standard deviation) report 꼭 해야. so, 여러번 실험해서 평균과 분산을 내자는 차원의 hyper parameter\n",
        "alpha = 0. # Beta distribution parameter, initially set as 0, i.e., no prior assumption !나중에 숫자 2정도 넣고 해보기!\n",
        "beta = 0. # Beta distribution parameter, initially set as 0, i.e., no prior assumption\n",
        "delta = 1e-15 # small amount for preventing log 0 #Naives Bayes Classfier 하다보면 이게 어쨌든 product of probability 인데, vocabulary 1000개 쓴다고 하면, product 값은 0~1 사이의 값 1000번 곱해지는 거임. 0에 가까운 숫자 나오게 되는데 얘를 log를 취해서 summation으로 바꿔서 domain 바꿈. (컴퓨터는 0에 취약하므로)\n",
        "\n",
        "trainingAccuracy = np.zeros((repeat,step)) #n개의 training document 활용할 때 각각마다 총 repeat만큼 반복할 때, 매 실험마다 accuracy 기록하기 위해서.\n",
        "testingAccuracy = np.zeros((repeat,step))\n",
        "avgTraining = np.zeros((step,1))\n",
        "stdTraining = np.zeros((step,1))\n",
        "avgTesting = np.zeros((step,1))\n",
        "stdTesting = np.zeros((step,1))\n",
        "\n",
        "start_time=time() #코드 돌고 있다는 걸 확인하기 위해서 넣음. (for loop 마다 찍어보려고)\n",
        "\n",
        "for M in range(1,step+1): # iteration over the size of training documents(ex. 1-> 10배해서 10개의 training document 활용하겠다)\n",
        "    N = M * 10; # the size of actual training documents (10단위로 training document size 조절)\n",
        "    for rep in range(repeat):  #반복 실험 횟수만큼 iteration\n",
        "        sample = np.random.permutation(np.arange(numDoc)) #데이터 shuffling. (매번 같은 데이터 놓고 반복 실험하면 의미 없으므로.)\n",
        "\n",
        "        # give permutation to the dataset\n",
        "        X = bagofword[sample] #X,Y는 한 쌍이므로, index를 suffling한 것을 이용해서 순서를 바꿈\n",
        "        Y = sentiment[sample]\n",
        "        ## fill out X,Y ##\n",
        "\n",
        "        # count the occurrence of (X,Y) (특정 (X,Y) 동시에 나오는 횟수 count)\n",
        "        cntXbyY = np.zeros((numVoca,2)) #initialization (단어장에 있는 수, sentiment 수)\n",
        "        ## fill out cntXbyY ; sentiment positive면서 첫번째 단어가 x3=1, y=+ ..동시에 발생하는 것을 모든 document에서 count ##\n",
        "        for i in range(numVoca):\n",
        "          for j in range(N): #training document 개수\n",
        "            if X[j,i]>=1 : #1.단어의 존재 유무로 0,1 2.단어의 등장횟수로 count 두 가지 경우 모두 고려하기 위해서 >=1\n",
        "              cntXbyY[i,Y[j]] = cntXbyY[i,Y[j]]+1\n",
        "\n",
        "        # count the occurrence of Y\n",
        "        cntY = np.zeros((2,1))\n",
        "        ## fill out cntY ##\n",
        "        for j in range(N):\n",
        "          if Y[j]== 0:\n",
        "            cntY[0]=cntY[0]+ 1\n",
        "          else :\n",
        "            cntY[1] = cntY[1] +1\n",
        "\n",
        "        # compute the probability of (X,Y) based on 등장한 횟수 기반\n",
        "        probsXbyY = np.zeros((numVoca, 2))\n",
        "        ## fill out probsXbyY ##\n",
        "        for i in range(numVoca):\n",
        "          for j in range(2):\n",
        "            #sentiment 나왔을 때 특정 단어 나왔을 확률=P(X|Y)\n",
        "            probsXbyY[i,j] = cntXbyY[i,j]/float(cntY[j]) #no beta prior assumption, alpha=beta=1 (데이터 기반 count를 그대로 확률로 옮김. beta(1,1) 1로 uniform하게 존재 )\n",
        "            #probsXbyY[i,j]=(cntXbyY[i,j]+alpha-1)/float(cntY[j]+alpha+beta-2) #beta prior assumption\n",
        "\n",
        "        # compute the probability of Y (P(Y=0) or P(Y=1))\n",
        "        probsY = np.zeros((2,1))\n",
        "        ## fill out probsY ##\n",
        "        for j in range(2):\n",
        "          probsY[j]=cntY[j]/float(cntY[0]+cntY[1]) #semtiment 등장한 횟수/document 개수\n",
        "\n",
        "        # compute log probability of positive/negative sentiment for all docs (X란 값 들어왔을 때 Y=+ or Y=-일 확률 계산)\n",
        "        logProbsSentiment = np.zeros((numDoc,2)) #0~1 값을 엄청 곱하다보면 0에 굉장히 가까워지니까 문제 발생하므로 log 취해서 더하자\n",
        "        ## fill out logProbsSentiment ##\n",
        "\n",
        "        for i in range(numDoc):\n",
        "          for k in range(2): #number of sentiment\n",
        "            logProbsSentiment[i,k] =0 #log1=0 이니까 0으로부터 더하기 시작\n",
        "            for j in range(numVoca):\n",
        "              if X[i,j]==1:\n",
        "                logProbsSentiment[i,k]=logProbsSentiment[i,k]+np.log(probsXbyY[j,k]+delta) #no +delta\n",
        "              else:  #argmax(P(X=x|Y=y)*P(Y=y)) 계산 (등장하지 X)\n",
        "                logProbsSentiment[i,k]=logProbsSentiment[i,k]+np.log(1-probsXbyY[j,k]+delta) #no+d\n",
        "            #sum log(P(X=x|Y=y))+log(P(Y=y))\n",
        "            logProbsSentiment[i,k]=logProbsSentiment[i,k]+np.log(probsY[k,0]) #line 65. sentiment 확률 더해줌.\n",
        "\n",
        "\n",
        "\n",
        "        # predict sentiment of documents\n",
        "        estSentiment = np.zeros((numDoc,1))\n",
        "        ## fill out estSentiment ##\n",
        "        for i in range(numDoc):\n",
        "          if logProbsSentiment[i,0]>logProbsSentiment[i,1]:\n",
        "            estSentiment[i]=0\n",
        "          else:\n",
        "            estSentiment[i]=1\n",
        "\n",
        "        # compute accuracy for training set (추정치가 실제로 들고 있는 데이터와 맞는지 횟수 세서 전체 개수로 나눠서 accuracy 개수 세기)\n",
        "        cntCorrect = 0\n",
        "        ## fill out cntCorrect ##\n",
        "        for i in range(N):\n",
        "          if estSentiment[i]==Y[i]:\n",
        "            cntCorrect = cntCorrect + 1\n",
        "        trainingAccuracy[rep,M-1] = cntCorrect / float(N) #repeat 몇번째인지, M=# of step\n",
        "\n",
        "        #### HERE ####\n",
        "        # compute accuracy for testing set\n",
        "        cntCorrect = 0\n",
        "        ## fill out cntCorrect ##\n",
        "        for i in range(N, N+numTesting+1):\n",
        "          if estSentiment[i]==Y[i]:\n",
        "            cntCorrect = cntCorrect+1\n",
        "        testingAccuracy[rep,M-1] = cntCorrect / float(numTesting)\n",
        "\n",
        "        print(time()-start_time)\n",
        "\n",
        "\n",
        "    ## fill out the following ##\n",
        "    # compute average of accuracies (반복실험 고려했을 때)\n",
        "    avgTraining[M-1] = np.mean(trainingAccuracy[:,M-1])\n",
        "    avgTesting[M-1] = np.mean(testingAccuracy[:,M-1])\n",
        "    # compute standard deviation of accuracies\n",
        "    stdTraining[M-1] = np.std(trainingAccuracy[:,M-1])\n",
        "    stdTesting[M-1] = np.std(testingAccuracy[:,M-1])\n"
      ]
    },
    {
      "cell_type": "code",
      "source": [
        "    #테스트 document에 대해서 성능이 비교적 저조함 (보정 후 결과 좀 더 나아짐)\n",
        "    print(avgTraining)\n",
        "    print(stdTraining)\n",
        "    print(avgTesting)\n",
        "    print(stdTesting)"
      ],
      "metadata": {
        "colab": {
          "base_uri": "https://localhost:8080/"
        },
        "id": "q_nexejPBhx4",
        "outputId": "214cc79a-be6d-41a4-b5fd-a3a1e61ff5d0"
      },
      "id": "q_nexejPBhx4",
      "execution_count": null,
      "outputs": [
        {
          "output_type": "stream",
          "name": "stdout",
          "text": [
            "[[1.        ]\n",
            " [0.98333333]\n",
            " [0.97777778]\n",
            " [0.96666667]\n",
            " [0.92666667]\n",
            " [0.91111111]\n",
            " [0.8952381 ]\n",
            " [0.88333333]\n",
            " [0.9       ]\n",
            " [0.87333333]\n",
            " [0.87575758]\n",
            " [0.89722222]\n",
            " [0.88974359]\n",
            " [0.86666667]]\n",
            "[[0.        ]\n",
            " [0.02357023]\n",
            " [0.01571348]\n",
            " [0.02357023]\n",
            " [0.03399346]\n",
            " [0.00785674]\n",
            " [0.02428105]\n",
            " [0.02124591]\n",
            " [0.00907218]\n",
            " [0.01699673]\n",
            " [0.00857099]\n",
            " [0.01039349]\n",
            " [0.01450475]\n",
            " [0.02048173]]\n",
            "[[0.46666667]\n",
            " [0.57333333]\n",
            " [0.6       ]\n",
            " [0.61333333]\n",
            " [0.65333333]\n",
            " [0.66666667]\n",
            " [0.65333333]\n",
            " [0.56666667]\n",
            " [0.58      ]\n",
            " [0.53333333]\n",
            " [0.62666667]\n",
            " [0.58      ]\n",
            " [0.55333333]\n",
            " [0.64      ]]\n",
            "[[0.06599663]\n",
            " [0.03771236]\n",
            " [0.04320494]\n",
            " [0.02494438]\n",
            " [0.08219219]\n",
            " [0.04109609]\n",
            " [0.00942809]\n",
            " [0.10873004]\n",
            " [0.05656854]\n",
            " [0.02494438]\n",
            " [0.07363574]\n",
            " [0.05887841]\n",
            " [0.02494438]\n",
            " [0.08164966]]\n"
          ]
        }
      ]
    },
    {
      "cell_type": "code",
      "execution_count": null,
      "id": "118edbe6",
      "metadata": {
        "id": "118edbe6",
        "colab": {
          "base_uri": "https://localhost:8080/",
          "height": 431
        },
        "outputId": "5a6c6a99-e831-4348-b0e6-adde5c2b3f2d"
      },
      "outputs": [
        {
          "output_type": "stream",
          "name": "stderr",
          "text": [
            "/usr/local/lib/python3.7/dist-packages/ipykernel_launcher.py:3: MatplotlibDeprecationWarning: Support for passing a (n, 1)-shaped error array to errorbar() is deprecated since Matplotlib 3.1 and will be removed in 3.3; pass a 1D array instead.\n",
            "  This is separate from the ipykernel package so we can avoid doing imports until\n",
            "/usr/local/lib/python3.7/dist-packages/ipykernel_launcher.py:4: MatplotlibDeprecationWarning: Support for passing a (n, 1)-shaped error array to errorbar() is deprecated since Matplotlib 3.1 and will be removed in 3.3; pass a 1D array instead.\n",
            "  after removing the cwd from sys.path.\n"
          ]
        },
        {
          "output_type": "display_data",
          "data": {
            "text/plain": [
              "<Figure size 504x360 with 1 Axes>"
            ],
            "image/png": "[encoded data removed]"
          },
          "metadata": {
            "needs_background": "light"
          }
        }
      ],
      "source": [
        "#결과 plot (randomness 때문에 사람마다 다르게 나올 수 있음.)\n",
        "plt.figure(1,figsize=(7,5))\n",
        "plt.errorbar(np.dot(10,range(1,step+1)),avgTraining,yerr=stdTraining/np.sqrt(repeat),fmt='-o',color='r',label=\"Training\")\n",
        "plt.errorbar(np.dot(10,range(1,step+1)),avgTesting,yerr=stdTesting/np.sqrt(repeat), fmt='-o',color='b',label=\"Testing\")\n",
        "\n",
        "plt.legend(bbox_to_anchor=(1.05,1),loc=2,borderaxespad=0.)\n",
        "plt.xlabel('Number of Training Cases',fontsize=14)\n",
        "plt.ylabel('Classification Accuracy',fontsize=14)\n",
        "\n",
        "plt.show()"
      ]
    }
  ],
  "metadata": {
    "kernelspec": {
      "display_name": "Python 3",
      "language": "python",
      "name": "python3"
    },
    "language_info": {
      "codemirror_mode": {
        "name": "ipython",
        "version": 3
      },
      "file_extension": ".py",
      "mimetype": "text/x-python",
      "name": "python",
      "nbconvert_exporter": "python",
      "pygments_lexer": "ipython3",
      "version": "3.8.8"
    },
    "colab": {
      "provenance": [],
      "include_colab_link": true
    },
    "accelerator": "GPU"
  },
  "nbformat": 4,
  "nbformat_minor": 5
}