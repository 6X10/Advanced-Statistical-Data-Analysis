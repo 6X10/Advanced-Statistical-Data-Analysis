{
  "cells": [
    {
      "cell_type": "markdown",
      "metadata": {
        "id": "view-in-github",
        "colab_type": "text"
      },
      "source": [
        "<a href=\"https://colab.research.google.com/github/6X10/advanced-statistical-data-analysis/blob/main/SVM_practice.ipynb\" target=\"_parent\"><img src=\"https://colab.research.google.com/assets/colab-badge.svg\" alt=\"Open In Colab\"/></a>"
      ]
    },
    {
      "cell_type": "code",
      "execution_count": null,
      "id": "3edb31bc",
      "metadata": {
        "id": "3edb31bc"
      },
      "outputs": [],
      "source": [
        "import numpy as np\n",
        "import matplotlib.pyplot as plt"
      ]
    },
    {
      "cell_type": "code",
      "execution_count": null,
      "id": "fb395ee3",
      "metadata": {
        "colab": {
          "base_uri": "https://localhost:8080/",
          "height": 349
        },
        "id": "fb395ee3",
        "outputId": "f4cdf83a-5319-4caf-f066-c7677f826b67"
      },
      "outputs": [
        {
          "output_type": "stream",
          "name": "stdout",
          "text": [
            "(1000, 4)\n",
            "(1000, 3)\n",
            "(1000,)\n"
          ]
        },
        {
          "output_type": "display_data",
          "data": {
            "text/plain": [
              "<Figure size 432x288 with 1 Axes>"
            ],
            "image/png": "[encoded data removed]"
          },
          "metadata": {
            "needs_background": "light"
          }
        }
      ],
      "source": [
        "#### Toy Data ####\n",
        "\n",
        "num_sample = 500\n",
        "\n",
        "data0 = np.random.randn(num_sample,2) + (2,2) #(2,2) 근처에서 가우시안 분포로 뽑을 것\n",
        "data1 = np.random.randn(num_sample,2) + (-2,-2) #(-2,-2) 근처에서 가우시안 분포로 뽑을 것\n",
        "\n",
        "data0 = np.hstack([data0,np.ones((num_sample,1),dtype=float),np.ones((num_sample,1),dtype=float)]) #bias term까지 고려해서 계산하기 위해서 1로 된 labe 붙여줌. ax1+bx2+c -> (a,b,c)•(x1,x2,1) 로 표현하므로, 뒤에거를 만들어주기 위해서 1을 더해줄 것 when (a,b,c)=w.\n",
        "data1 = np.hstack([data1,np.ones((num_sample,1),dtype=float),-np.ones((num_sample,1),dtype=float)]) #(2,2) 근처에서 뽑은 애는 +1이라는 label을, (-2,-2) 근처에서 뽑은 애는 -1이라는 label을\n",
        "\n",
        "data = np.vstack([data0,data1]) #X1,X2,1,y(label) 순서로 되어 있음\n",
        "\n",
        "print(data.shape)\n",
        "\n",
        "#X,Y 값 분리\n",
        "X = data[:,:3]\n",
        "Y = data[:,3]\n",
        "\n",
        "print(X.shape)\n",
        "print(Y.shape)\n",
        "\n",
        "plt.title(\"Samples\")\n",
        "plt.xlabel(\"X Values\")\n",
        "plt.ylabel(\"Y Values\")\n",
        "plt.scatter(data0[:,0],data0[:,1],s=4,color=\"b\")\n",
        "plt.scatter(data1[:,0],data1[:,1],s=4,color=\"r\")\n",
        "plt.show()\n",
        "#randomness 존재해서 완벽하게 구분되는 data point 뽑힐 수도 있고, 지금처럼 약간 섞인 데이터 포인트 뽑일 수도ㅇ"
      ]
    },
    {
      "cell_type": "code",
      "execution_count": null,
      "id": "f6917f16",
      "metadata": {
        "id": "f6917f16"
      },
      "outputs": [],
      "source": [
        "#soft margin SVM linear DB 찾기\n",
        "#objective function minimize하는 문제 -> SGD로 풀기!\n",
        "class SVM:\n",
        "    def __init__(self, lam, lr, X, Y): #input parameter\n",
        "        self.lam = lam # lamda: penalty scale(새롭게 loss function 정의할 때, 새롭게 붙는 penalty term의 scale하는 parameter)\n",
        "        self.lr = lr # learning rate (for SGD)\n",
        "        self.X = X # training data input\n",
        "        self.Y = Y # training data label\n",
        "        # X.shape = (1000,3)\n",
        "        self.W = np.random.randn(X.shape[1]) #w paramter initialize with standard gaussian. (X.shape의 첫번째 dimension에 맞게)\n",
        "        self.num_data = X.shape[0]\n",
        "        print(\"SVM initialized..\")\n",
        "\n",
        "    def constraint(self, x, y):\n",
        "      return y*np.dot(x,self.W) #>= 1: 맞춘 거, 0~1: margin 안에 떨어지고, 0<= 틀린 거\n",
        "\n",
        "    #hinge loss\n",
        "    def slack(self, x,y):\n",
        "        return 1. - self.constraint(x,y) # 1-contraint as slack variable\n",
        "    #13p, objective function: minw ||w||^2+lamda~\n",
        "\n",
        "    # data instance-wise loss and hit computation\n",
        "    def compute_loss_and_hit(self, x, y):\n",
        "      hinge_loss = np.maximum(self.slack(x,y), 0.)\n",
        "      loss = np.sum(np.multiply(self.W, self.W))+self.lam*hinge_loss #objective function = w에 대한 (L-2 norm의 square:w의 innerproduct)+(hingeloss)*(scale parameter)\n",
        "      if self.constraint(x,y) <=0:\n",
        "        hit=False\n",
        "      else: #0~1도 엄밀히 말하면 틀린 건 아니므로.\n",
        "        hit=True\n",
        "      return loss, hit\n",
        "\n",
        "    #하나의 데이터 instance 들어갔을 때 gradient 어떻게 되는지\n",
        "    #case 2가지. hingeloss -> 0 (slack<0), hingeloss>0 (slack>=0)\n",
        "    #엄밀히 따지면 hinge loss가 (14pg 그림)처럼 1이라는 값에서 미분가능하지 않음 -> 정확하게 이 값 equal 1 나오는 순간 컴퓨터에게 그렇게 많지 않을 것이므로 무시\n",
        "    #1이라는 값 왼쪽에서는 미분 가능한데 -1 나오고, 1이라는 값 오른쪽에서는 미분 가능한데 0 나옴.\n",
        "    def compute_gradient(self, x, y):\n",
        "      if self.slack(x,y) <= 0: #뒤에 term 죽음\n",
        "        grad_w = 2*self.W #dloss/dw = 2*w\n",
        "      else: #hingeloss 살아남음\n",
        "        grad_w = 2*self.W - (self.lam*x*y)\n",
        "      return grad_w\n",
        "\n",
        "    # optimize self.W with simple SGD, i.e., mini batch_size=1\n",
        "    # also, compute total loss and training accuracy of current epoch\n",
        "    def fit(self,num_epoch):\n",
        "        for epoch in range(num_epoch):\n",
        "            total_loss=0 #epoch에서의 total loss\n",
        "            count=0 #epoch에서의 count\n",
        "            perm = np.random.permutation(self.num_data) #SGD 쓸거니까 데이터 shuffling 해줘야.\n",
        "            for ind in range(self.num_data): #한번에 하나씩만 대입하는 minibatch size=1 SGD 사요 .\n",
        "              loss, hit = self.compute_loss_and_hit(self.X[perm[ind]], self.Y[perm[ind]]) #데이터 shuffling을 고려한 index를 X,Y에 넣음\n",
        "              grad_w = self.compute_gradient(self.X[perm[ind]], self.Y[perm[ind]])\n",
        "              self.W= self.W - (self.lr * grad_w) #w update\n",
        "              total_loss += loss\n",
        "              count += hit\n",
        "            accuracy = count/self.num_data #맞춘 횟수/전체 데이터수\n",
        "            if epoch % 100 == 0:\n",
        "                print(\"Epoch: %d, Loss: %.2f, Accuracy: %.3f\"%(epoch, total_loss, accuracy)) #현재 Epoch에서의 total loss(or average loss)와 accuracy"
      ]
    },
    {
      "cell_type": "code",
      "execution_count": null,
      "id": "9fe61fdd",
      "metadata": {
        "id": "9fe61fdd",
        "colab": {
          "base_uri": "https://localhost:8080/"
        },
        "outputId": "ac4e9e74-6b9c-4ba9-b173-ba7ffed9dbfe"
      },
      "outputs": [
        {
          "output_type": "stream",
          "name": "stdout",
          "text": [
            "SVM initialized..\n"
          ]
        }
      ],
      "source": [
        "model = SVM(lam=0.1,lr=1e-5,X=X,Y=Y)"
      ]
    },
    {
      "cell_type": "code",
      "execution_count": null,
      "id": "489766d7",
      "metadata": {
        "scrolled": false,
        "id": "489766d7",
        "colab": {
          "base_uri": "https://localhost:8080/"
        },
        "outputId": "5e560932-b6a8-4ffe-c228-6fcc96e31bc1"
      },
      "outputs": [
        {
          "output_type": "stream",
          "name": "stdout",
          "text": [
            "Epoch: 0, Loss: 1906.06, Accuracy: 0.004\n",
            "Epoch: 100, Loss: 114.37, Accuracy: 0.004\n",
            "Epoch: 200, Loss: 81.55, Accuracy: 0.996\n",
            "Epoch: 300, Loss: 80.95, Accuracy: 0.996\n",
            "Epoch: 400, Loss: 80.94, Accuracy: 0.996\n",
            "Epoch: 500, Loss: 80.94, Accuracy: 0.996\n",
            "Epoch: 600, Loss: 80.94, Accuracy: 0.996\n",
            "Epoch: 700, Loss: 80.94, Accuracy: 0.996\n",
            "Epoch: 800, Loss: 80.94, Accuracy: 0.996\n",
            "Epoch: 900, Loss: 80.94, Accuracy: 0.996\n"
          ]
        }
      ],
      "source": [
        "model.fit(num_epoch=1000)"
      ]
    },
    {
      "cell_type": "code",
      "execution_count": null,
      "id": "82661eae",
      "metadata": {
        "id": "82661eae",
        "colab": {
          "base_uri": "https://localhost:8080/",
          "height": 295
        },
        "outputId": "0a921aa7-d7a4-4e7b-9cfb-bc42b65ec93d"
      },
      "outputs": [
        {
          "output_type": "display_data",
          "data": {
            "text/plain": [
              "<Figure size 432x288 with 1 Axes>"
            ],
            "image/png": "[encoded data removed]"
          },
          "metadata": {
            "needs_background": "light"
          }
        }
      ],
      "source": [
        "#linear D.B\n",
        "plt.title(\"Samples\")\n",
        "plt.xlabel(\"X Values\")\n",
        "plt.ylabel(\"Y Values\")\n",
        "plt.scatter(data0[:,0],data0[:,1],s=4,color=\"b\")\n",
        "plt.scatter(data1[:,0],data1[:,1],s=4,color=\"r\")\n",
        "plt.plot([-4, +4], [-(model.W[0]*(-4)+model.W[2])/model.W[1], -(model.W[0]*(+4)+model.W[2])/model.W[1]],color=\"g\")\n",
        "plt.show()"
      ]
    }
  ],
  "metadata": {
    "kernelspec": {
      "display_name": "Python 3",
      "language": "python",
      "name": "python3"
    },
    "language_info": {
      "codemirror_mode": {
        "name": "ipython",
        "version": 3
      },
      "file_extension": ".py",
      "mimetype": "text/x-python",
      "name": "python",
      "nbconvert_exporter": "python",
      "pygments_lexer": "ipython3",
      "version": "3.6.10"
    },
    "colab": {
      "provenance": [],
      "include_colab_link": true
    }
  },
  "nbformat": 4,
  "nbformat_minor": 5
}