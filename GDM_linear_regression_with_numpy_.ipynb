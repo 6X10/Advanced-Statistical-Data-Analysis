{
  "nbformat": 4,
  "nbformat_minor": 0,
  "metadata": {
    "colab": {
      "provenance": [],
      "authorship_tag": "ABX9TyM3ZbX54p9euB0mH2/0mS+a"
    },
    "kernelspec": {
      "name": "python3",
      "display_name": "Python 3"
    },
    "language_info": {
      "name": "python"
    },
    "accelerator": "GPU",
    "gpuClass": "standard"
  },
  "cells": [
    {
      "cell_type": "markdown",
      "source": [
        "linear regression(일반적인 optimal solution X. optimal sol closed form으로 존재하지만 현실적으로 optimal solution에 존재하는 다양한 matrix computation (ex.행렬 곱셈, inverse 연산) 때문에 비현실적. 대안책 : GDM\n",
        "\n",
        "-> linear regression의 weight parameter를 GDM를 통해서 학습하는 과정"
      ],
      "metadata": {
        "id": "SZ63GfnrqLgj"
      }
    },
    {
      "cell_type": "markdown",
      "source": [
        "(1) pytorch 활용하지 않고, 직접 gradient 다 구해서 w update (딥러닝 어떻게 학습하는지 이해하는데 도움.) -numpy 기반 w parameter 학습 과정"
      ],
      "metadata": {
        "id": "LHkGdgPPqWTL"
      }
    },
    {
      "cell_type": "code",
      "source": [
        "import numpy as np #for 연산\n",
        "import matplotlib.pyplot as plt #for visulization"
      ],
      "metadata": {
        "id": "x0JXwNHrq8jg"
      },
      "execution_count": null,
      "outputs": []
    },
    {
      "cell_type": "code",
      "source": [
        "#linear regression을 가정한 임의의 데이터(toy data) - 1000개의 2차원 plain에 존재\n",
        "\n",
        "num_sample = 1000\n",
        "min_val, max_val = 0., 5. #x값에 해당하는 범위 0~5로 가정하고, uniform random sampling을 통해서 x dimensional data 생성\n",
        "x_data = np.random.uniform(low=min_val, high=max_val, size=num_sample)\n",
        "y_data = 3 * x_data + 2 + np.random.randn(num_sample) #y=3*x+2 형태의 분포를 따른다고 가정하고 y data 생성 +random gaussian noise 추가\n",
        "data = np.transpose(np.array([x_data,y_data]))\n",
        "\n",
        "print(data.shape)"
      ],
      "metadata": {
        "colab": {
          "base_uri": "https://localhost:8080/"
        },
        "id": "HHwajxqJrCCp",
        "outputId": "ac5f3ba1-ae77-48a5-a712-cb2e6b75a3de"
      },
      "execution_count": null,
      "outputs": [
        {
          "output_type": "stream",
          "name": "stdout",
          "text": [
            "(1000, 2)\n"
          ]
        }
      ]
    },
    {
      "cell_type": "code",
      "source": [
        "#생성한 data plotting\n",
        "plt.title(\"Samples\")\n",
        "plt.xlabel(\"X Values\")\n",
        "plt.ylabel(\"Y Values\")\n",
        "plt.scatter(data[:,0], data[:,1],s=4)\n",
        "plt.show()"
      ],
      "metadata": {
        "colab": {
          "base_uri": "https://localhost:8080/",
          "height": 295
        },
        "id": "SM1AtA3ErRQe",
        "outputId": "03484647-83a5-4688-8578-6655065fb69e"
      },
      "execution_count": null,
      "outputs": [
        {
          "output_type": "display_data",
          "data": {
            "text/plain": [
              "<Figure size 432x288 with 1 Axes>"
            ],
            "image/png": "[encoded data removed]"
          },
          "metadata": {
            "needs_background": "light"
          }
        }
      ]
    },
    {
      "cell_type": "code",
      "source": [
        "#optimal sol(weight, bias) by matrix 연산\n",
        "data_ = np.transpose(np.array([x_data,np.ones_like(x_data)]))\n",
        "\n",
        "optimal = np.matmul(np.matmul(np.linalg.inv(np.matmul(data_.T, data_)), data_.T), data[:,1])\n",
        "\n",
        "print(optimal)\n"
      ],
      "metadata": {
        "colab": {
          "base_uri": "https://localhost:8080/"
        },
        "id": "9hA8C19erX8R",
        "outputId": "2a072eee-b8e1-43c9-efca-7df33fe263a6"
      },
      "execution_count": null,
      "outputs": [
        {
          "output_type": "stream",
          "name": "stdout",
          "text": [
            "[2.99886992 2.05324388]\n"
          ]
        }
      ]
    },
    {
      "cell_type": "code",
      "source": [
        "#Gradient Descend Method\n",
        "#1. parameter random initialization & learning rate 정의\n",
        "\n",
        "w, b = np.random.randn(2) #standard gaussian에서 random sampling을 통해서 initialization\n",
        "eta = 1e-5 #learning rate(step size)"
      ],
      "metadata": {
        "id": "J19mLoXwrhCg"
      },
      "execution_count": null,
      "outputs": []
    },
    {
      "cell_type": "code",
      "source": [
        "#2. loss와 gradient 구하기\n",
        "#데이터 하나가 들어왔을 때 그때의 loss와 gradient 구하기\n",
        "def compute_loss_and_grad(data_instance):\n",
        "    x, y = data_instance #unpacking\n",
        "    y_est = w*x + b #y estimated 값\n",
        "    loss = (y-y_est)**2 #loss=(true y-estimated y)^2 != MSE (엄밀하게) but 수식적으로 생각해보면 SE나 SSE로 optimization 하든 MSE로 하든 스케일을 제외하면 달라질게 없음\n",
        "    #so 편의상 SE를 모두 sum 하는 걸 total loss로 생각\n",
        "    grad_w = -2*(y-y_est)*x #w에 대한 gradient(수직적 계산은 손으로 한 번 해보기)\n",
        "    grad_b = -2*(y-y_est) #b에 대한 gradient\n",
        "    return loss, (grad_w, grad_b)\n",
        "\n",
        "#학습할 w,b, 이에 대한 gradient값 알았으니까 실제로 w,b 학습. parameter update하는 function\n",
        "def update_parameters(grads):\n",
        "    global w, b #글로벌하게 정의된 w,b를 update할 거니까 글로벌 선언 해줘야!\n",
        "    grad_w, grad_b = grads #그레디언트 뭉텅이로 들어온 거 unpacking\n",
        "    w -= eta * grad_w #기존의 w에 learning rate*grad value 만큼 빼주도록\n",
        "    b -= eta * grad_b"
      ],
      "metadata": {
        "id": "8dvTx8X5rrEZ"
      },
      "execution_count": null,
      "outputs": []
    },
    {
      "cell_type": "code",
      "source": [
        "#3. learning stage\n",
        "\n",
        "num_epoch = 2000 #몇번의 iteration 돌릴지 setting. (hyperparameter이기 때문에 직접 딥러닝 개발 혹은 구현할 때 어느 정도 학습을 해야할지 등은 실험적으로 알아봐야)\n",
        "loss_list = list() #각 iteration(=epoch)에서 어떤 loss값들이 나오는지 saving하기 위한 loss에 대한 list initialize\n",
        "\n",
        "for i in range(num_epoch):\n",
        "    perm = np.random.permutation(len(data)) #SGD 중 batch size 1인 simple SGD 사용할 것이므로, 데이터 길이만큼 random permutation 매 epoch마다 정의해줘야(이번 epoch에서는 어떤 순서대로 데이터 instance feeding해서 학습해나갈 것인지 의미)\n",
        "    total_loss = 0 #해당 epoch에서 총 loss 얼마인지 계산하기 위한 토탈 loss setting\n",
        "    for j in range(len(data)):\n",
        "        loss, grads = compute_loss_and_grad(data[perm[j]]) #각각의 data instance 하나마다 loss와 grad compute 뭉텅이로\n",
        "        update_parameters(grads)\n",
        "        total_loss += loss #누적\n",
        "    loss_list.append(total_loss) #해당 epoch에서의 total loss(나중에 loss 어떻게 수렴했는지 보기 위해서)\n",
        "\n",
        "    \n",
        "    if i % 10 == 0:\n",
        "        print(\"Epoch %d: %.3f\"%(i,total_loss)) #매 10번의 epoch마다 해당 epoch의 loss 프린트해주는 형태로 코드 구현 "
      ],
      "metadata": {
        "colab": {
          "base_uri": "https://localhost:8080/"
        },
        "id": "aSrcdq8Hs_G3",
        "outputId": "45623ccc-6e68-4859-9595-60097eb9e9c6"
      },
      "execution_count": null,
      "outputs": [
        {
          "output_type": "stream",
          "name": "stdout",
          "text": [
            "Epoch 0: 32522.483\n",
            "Epoch 10: 3033.018\n",
            "Epoch 20: 2220.211\n",
            "Epoch 30: 2095.490\n",
            "Epoch 40: 1996.248\n",
            "Epoch 50: 1905.946\n",
            "Epoch 60: 1823.416\n",
            "Epoch 70: 1747.983\n",
            "Epoch 80: 1679.038\n",
            "Epoch 90: 1616.007\n",
            "Epoch 100: 1558.413\n",
            "Epoch 110: 1505.779\n",
            "Epoch 120: 1457.659\n",
            "Epoch 130: 1413.679\n",
            "Epoch 140: 1373.491\n",
            "Epoch 150: 1336.734\n",
            "Epoch 160: 1303.165\n",
            "Epoch 170: 1272.479\n",
            "Epoch 180: 1244.427\n",
            "Epoch 190: 1218.787\n",
            "Epoch 200: 1195.353\n",
            "Epoch 210: 1173.933\n",
            "Epoch 220: 1154.360\n",
            "Epoch 230: 1136.461\n",
            "Epoch 240: 1120.081\n",
            "Epoch 250: 1105.161\n",
            "Epoch 260: 1091.494\n",
            "Epoch 270: 1079.017\n",
            "Epoch 280: 1067.601\n",
            "Epoch 290: 1057.170\n",
            "Epoch 300: 1047.626\n",
            "Epoch 310: 1038.911\n",
            "Epoch 320: 1030.956\n",
            "Epoch 330: 1023.674\n",
            "Epoch 340: 1017.023\n",
            "Epoch 350: 1010.942\n",
            "Epoch 360: 1005.380\n",
            "Epoch 370: 1000.303\n",
            "Epoch 380: 995.658\n",
            "Epoch 390: 991.415\n",
            "Epoch 400: 987.536\n",
            "Epoch 410: 983.991\n",
            "Epoch 420: 980.737\n",
            "Epoch 430: 977.786\n",
            "Epoch 440: 975.070\n",
            "Epoch 450: 972.606\n",
            "Epoch 460: 970.344\n",
            "Epoch 470: 968.278\n",
            "Epoch 480: 966.388\n",
            "Epoch 490: 964.654\n",
            "Epoch 500: 963.081\n",
            "Epoch 510: 961.641\n",
            "Epoch 520: 960.302\n",
            "Epoch 530: 959.117\n",
            "Epoch 540: 958.012\n",
            "Epoch 550: 957.006\n",
            "Epoch 560: 956.087\n",
            "Epoch 570: 955.248\n",
            "Epoch 580: 954.481\n",
            "Epoch 590: 953.776\n",
            "Epoch 600: 953.131\n",
            "Epoch 610: 952.543\n",
            "Epoch 620: 952.001\n",
            "Epoch 630: 951.514\n",
            "Epoch 640: 951.071\n",
            "Epoch 650: 950.661\n",
            "Epoch 660: 950.290\n",
            "Epoch 670: 949.947\n",
            "Epoch 680: 949.635\n",
            "Epoch 690: 949.349\n",
            "Epoch 700: 949.087\n",
            "Epoch 710: 948.846\n",
            "Epoch 720: 948.626\n",
            "Epoch 730: 948.427\n",
            "Epoch 740: 948.245\n",
            "Epoch 750: 948.081\n",
            "Epoch 760: 947.929\n",
            "Epoch 770: 947.787\n",
            "Epoch 780: 947.661\n",
            "Epoch 790: 947.546\n",
            "Epoch 800: 947.429\n",
            "Epoch 810: 947.338\n",
            "Epoch 820: 947.248\n",
            "Epoch 830: 947.170\n",
            "Epoch 840: 947.099\n",
            "Epoch 850: 947.031\n",
            "Epoch 860: 946.970\n",
            "Epoch 870: 946.906\n",
            "Epoch 880: 946.861\n",
            "Epoch 890: 946.811\n",
            "Epoch 900: 946.770\n",
            "Epoch 910: 946.726\n",
            "Epoch 920: 946.694\n",
            "Epoch 930: 946.656\n",
            "Epoch 940: 946.623\n",
            "Epoch 950: 946.604\n",
            "Epoch 960: 946.579\n",
            "Epoch 970: 946.542\n",
            "Epoch 980: 946.534\n",
            "Epoch 990: 946.511\n",
            "Epoch 1000: 946.496\n",
            "Epoch 1010: 946.475\n",
            "Epoch 1020: 946.459\n",
            "Epoch 1030: 946.454\n",
            "Epoch 1040: 946.441\n",
            "Epoch 1050: 946.429\n",
            "Epoch 1060: 946.405\n",
            "Epoch 1070: 946.408\n",
            "Epoch 1080: 946.401\n",
            "Epoch 1090: 946.393\n",
            "Epoch 1100: 946.382\n",
            "Epoch 1110: 946.380\n",
            "Epoch 1120: 946.373\n",
            "Epoch 1130: 946.369\n",
            "Epoch 1140: 946.355\n",
            "Epoch 1150: 946.357\n",
            "Epoch 1160: 946.350\n",
            "Epoch 1170: 946.347\n",
            "Epoch 1180: 946.341\n",
            "Epoch 1190: 946.344\n",
            "Epoch 1200: 946.337\n",
            "Epoch 1210: 946.326\n",
            "Epoch 1220: 946.334\n",
            "Epoch 1230: 946.333\n",
            "Epoch 1240: 946.329\n",
            "Epoch 1250: 946.324\n",
            "Epoch 1260: 946.329\n",
            "Epoch 1270: 946.326\n",
            "Epoch 1280: 946.322\n",
            "Epoch 1290: 946.319\n",
            "Epoch 1300: 946.323\n",
            "Epoch 1310: 946.321\n",
            "Epoch 1320: 946.320\n",
            "Epoch 1330: 946.320\n",
            "Epoch 1340: 946.298\n",
            "Epoch 1350: 946.318\n",
            "Epoch 1360: 946.318\n",
            "Epoch 1370: 946.316\n",
            "Epoch 1380: 946.314\n",
            "Epoch 1390: 946.313\n",
            "Epoch 1400: 946.314\n",
            "Epoch 1410: 946.302\n",
            "Epoch 1420: 946.315\n",
            "Epoch 1430: 946.309\n",
            "Epoch 1440: 946.314\n",
            "Epoch 1450: 946.314\n",
            "Epoch 1460: 946.313\n",
            "Epoch 1470: 946.299\n",
            "Epoch 1480: 946.314\n",
            "Epoch 1490: 946.312\n",
            "Epoch 1500: 946.313\n",
            "Epoch 1510: 946.311\n",
            "Epoch 1520: 946.309\n",
            "Epoch 1530: 946.307\n",
            "Epoch 1540: 946.309\n",
            "Epoch 1550: 946.309\n",
            "Epoch 1560: 946.311\n",
            "Epoch 1570: 946.312\n",
            "Epoch 1580: 946.311\n",
            "Epoch 1590: 946.312\n",
            "Epoch 1600: 946.308\n",
            "Epoch 1610: 946.311\n",
            "Epoch 1620: 946.296\n",
            "Epoch 1630: 946.312\n",
            "Epoch 1640: 946.310\n",
            "Epoch 1650: 946.305\n",
            "Epoch 1660: 946.310\n",
            "Epoch 1670: 946.304\n",
            "Epoch 1680: 946.309\n",
            "Epoch 1690: 946.311\n",
            "Epoch 1700: 946.310\n",
            "Epoch 1710: 946.306\n",
            "Epoch 1720: 946.306\n",
            "Epoch 1730: 946.308\n",
            "Epoch 1740: 946.310\n",
            "Epoch 1750: 946.304\n",
            "Epoch 1760: 946.305\n",
            "Epoch 1770: 946.307\n",
            "Epoch 1780: 946.296\n",
            "Epoch 1790: 946.310\n",
            "Epoch 1800: 946.306\n",
            "Epoch 1810: 946.305\n",
            "Epoch 1820: 946.308\n",
            "Epoch 1830: 946.310\n",
            "Epoch 1840: 946.308\n",
            "Epoch 1850: 946.310\n",
            "Epoch 1860: 946.309\n",
            "Epoch 1870: 946.308\n",
            "Epoch 1880: 946.311\n",
            "Epoch 1890: 946.306\n",
            "Epoch 1900: 946.307\n",
            "Epoch 1910: 946.306\n",
            "Epoch 1920: 946.310\n",
            "Epoch 1930: 946.310\n",
            "Epoch 1940: 946.300\n",
            "Epoch 1950: 946.311\n",
            "Epoch 1960: 946.310\n",
            "Epoch 1970: 946.302\n",
            "Epoch 1980: 946.311\n",
            "Epoch 1990: 946.305\n"
          ]
        }
      ]
    },
    {
      "cell_type": "markdown",
      "source": [
        "loss 한 점으로 수렴해가고 있음을 알 수 있음\n",
        "= 2000번 다 돌릴 필요 없이 적당히 1000번쯤 돌리고 코드 끝내도 되는 거였음\n",
        "but 어떻게 linear regression 학습되는지 확인한다는 차원에서 2000번 돌린거라고 생각하시길..."
      ],
      "metadata": {
        "id": "jg6wmgaAu-C4"
      }
    },
    {
      "cell_type": "code",
      "source": [
        "print(w,b)"
      ],
      "metadata": {
        "colab": {
          "base_uri": "https://localhost:8080/"
        },
        "id": "7AB-3dm5vMKj",
        "outputId": "d214f9f1-c251-44dc-fe7f-7745eadc4434"
      },
      "execution_count": null,
      "outputs": [
        {
          "output_type": "stream",
          "name": "stdout",
          "text": [
            "2.9988865638983957 2.0529058663664284\n"
          ]
        }
      ]
    },
    {
      "cell_type": "code",
      "source": [
        "#optimal w, b 값과 크게 차이 없음. 심지어 처음에 가정했던 y=3*x+2의 w,b 값들과도 큰 차이 X = GDM로 학습을 해도 optimal sol과 굉장히 가깝게 parameter 학습되는구나~\n",
        "print(optimal)"
      ],
      "metadata": {
        "colab": {
          "base_uri": "https://localhost:8080/"
        },
        "id": "asKYFS6HvRdk",
        "outputId": "39dcb371-7fdf-40c5-cfeb-1ec20ad89dcf"
      },
      "execution_count": null,
      "outputs": [
        {
          "output_type": "stream",
          "name": "stdout",
          "text": [
            "[2.99886992 2.05324388]\n"
          ]
        }
      ]
    },
    {
      "cell_type": "code",
      "source": [
        "#GDM으로 얻어낸 parameter를 통해서 실제로 linear relationship plot 해봄 -> 잘 fitting(애초에 이런 관계를 가진 데이터 포인트들을 뽑았으므로..)\n",
        "\n",
        "plt.title(\"Samples\")\n",
        "plt.xlabel(\"X Values\")\n",
        "plt.ylabel(\"Y Values\")\n",
        "plt.scatter(data[:,0], data[:,1],s=4)\n",
        "plt.plot([min_val, max_val], [w*min_val+b, w*max_val+b],color=\"r\")\n",
        "plt.show()"
      ],
      "metadata": {
        "colab": {
          "base_uri": "https://localhost:8080/",
          "height": 295
        },
        "id": "B7n486W4vs_G",
        "outputId": "d1f246a6-f1af-4187-edc1-e7984555b5aa"
      },
      "execution_count": null,
      "outputs": [
        {
          "output_type": "display_data",
          "data": {
            "text/plain": [
              "<Figure size 432x288 with 1 Axes>"
            ],
            "image/png": "[encoded data removed]"
          },
          "metadata": {
            "needs_background": "light"
          }
        }
      ]
    },
    {
      "cell_type": "code",
      "source": [
        "#saving loss들. 데이터가 잘 fitting 하므로 loss가 처음부터 확확 떨어지면서 나중에 결국 수렴하는 형태임. 만약 모델이 좀 더 복잡했다던가, 데이터들이 단순히 linear relationship 아니였다면 loss가 이런식으로 빠르게 수렴하지는 않았을것\n",
        "plt.title(\"Loss\")\n",
        "plt.xlabel(\"Epoch\")\n",
        "plt.ylabel(\"Total Loss\")\n",
        "plt.plot(loss_list)\n",
        "plt.show()\n"
      ],
      "metadata": {
        "colab": {
          "base_uri": "https://localhost:8080/",
          "height": 295
        },
        "id": "qAVrgHRYv_J0",
        "outputId": "c1a82a7b-b9c2-4c68-dba3-7d596fabdc4b"
      },
      "execution_count": null,
      "outputs": [
        {
          "output_type": "display_data",
          "data": {
            "text/plain": [
              "<Figure size 432x288 with 1 Axes>"
            ],
            "image/png": "[encoded data removed]"
          },
          "metadata": {
            "needs_background": "light"
          }
        }
      ]
    },
    {
      "cell_type": "code",
      "source": [
        "#linear regression에 이렇게 fit하지 않은 다른 데이터를 활용해서 같은 코드 진행. (데이터 생성하는 부분만 앞선 코드와 다름)"
      ],
      "metadata": {
        "id": "lCzZSzkAwc4W"
      },
      "execution_count": null,
      "outputs": []
    },
    {
      "cell_type": "code",
      "source": [
        "num_sample = 1000\n",
        "min_val, max_val = 0., 5.\n",
        "\n",
        "x_data = np.random.uniform(low=min_val, high=max_val, size=num_sample)\n",
        "y_data = np.sin(x_data) #y=sin(x) 가정\n",
        "\n",
        "data = np.transpose(np.array([x_data,y_data]))\n",
        "\n",
        "print(data.shape)"
      ],
      "metadata": {
        "colab": {
          "base_uri": "https://localhost:8080/"
        },
        "id": "OSb7Mnzfww7O",
        "outputId": "0cf1e9b6-5f7b-4821-80c0-15903b79f759"
      },
      "execution_count": null,
      "outputs": [
        {
          "output_type": "stream",
          "name": "stdout",
          "text": [
            "(1000, 2)\n"
          ]
        }
      ]
    },
    {
      "cell_type": "code",
      "source": [
        "#sin 함수 형태로 데이터 존재 \n",
        "plt.title(\"Samples\")\n",
        "plt.xlabel(\"X Values\")\n",
        "plt.ylabel(\"Y Values\")\n",
        "plt.scatter(data[:,0], data[:,1],s=4)\n",
        "plt.show()"
      ],
      "metadata": {
        "colab": {
          "base_uri": "https://localhost:8080/",
          "height": 295
        },
        "id": "6w4qtNFuw5Y5",
        "outputId": "f539e8cd-95ea-4067-a14e-8545767374e7"
      },
      "execution_count": null,
      "outputs": [
        {
          "output_type": "display_data",
          "data": {
            "text/plain": [
              "<Figure size 432x288 with 1 Axes>"
            ],
            "image/png": "[encoded data removed]"
          },
          "metadata": {
            "needs_background": "light"
          }
        }
      ]
    },
    {
      "cell_type": "code",
      "source": [
        "#optimal sol by 단순계산\n",
        "data_ = np.transpose(np.array([x_data,np.ones_like(x_data)]))\n",
        "\n",
        "optimal = np.matmul(np.matmul(np.linalg.inv(np.matmul(data_.T, data_)), data_.T), data[:,1])\n",
        "\n",
        "print(optimal)"
      ],
      "metadata": {
        "colab": {
          "base_uri": "https://localhost:8080/"
        },
        "id": "whK37lxfxARH",
        "outputId": "6fe9992d-07ae-4095-e66a-5387817fc3dd"
      },
      "execution_count": null,
      "outputs": [
        {
          "output_type": "stream",
          "name": "stdout",
          "text": [
            "[-0.40338784  1.15871901]\n"
          ]
        }
      ]
    },
    {
      "cell_type": "code",
      "source": [
        "#initialization\n",
        "w, b = np.random.randn(2)\n",
        "eta = 1e-5"
      ],
      "metadata": {
        "id": "Ogd3RIxZxGl_"
      },
      "execution_count": null,
      "outputs": []
    },
    {
      "cell_type": "code",
      "source": [
        "def compute_loss_and_grad(data_instance):\n",
        "    x, y = data_instance\n",
        "    y_est = w*x + b\n",
        "    loss = (y-y_est)**2\n",
        "    grad_w = -2*(y-y_est)*x\n",
        "    grad_b = -2*(y-y_est)\n",
        "    return loss, (grad_w, grad_b)\n",
        "\n",
        "def update_parameters(grads):\n",
        "    global w, b\n",
        "    grad_w, grad_b = grads\n",
        "    w -= eta * grad_w\n",
        "    b -= eta * grad_b"
      ],
      "metadata": {
        "id": "qwkvxGDdxJ8m"
      },
      "execution_count": null,
      "outputs": []
    },
    {
      "cell_type": "code",
      "source": [
        "#학습\n",
        "num_epoch = 2000\n",
        "loss_list = list()\n",
        "\n",
        "for i in range(num_epoch):\n",
        "    perm = np.random.permutation(len(data))\n",
        "    total_loss = 0\n",
        "    for j in range(len(data)):\n",
        "        loss, grads = compute_loss_and_grad(data[perm[j]])\n",
        "        update_parameters(grads)\n",
        "        total_loss += loss\n",
        "    loss_list.append(total_loss)\n",
        "    \n",
        "    if i % 10 == 0:\n",
        "        print(\"Epoch %d: %.3f\"%(i,total_loss))\n"
      ],
      "metadata": {
        "colab": {
          "base_uri": "https://localhost:8080/"
        },
        "id": "h9PiwoINxMvn",
        "outputId": "115f35ac-ebe5-4dfe-e234-d02727606120"
      },
      "execution_count": null,
      "outputs": [
        {
          "output_type": "stream",
          "name": "stdout",
          "text": [
            "Epoch 0: 813.513\n",
            "Epoch 10: 618.662\n",
            "Epoch 20: 575.279\n",
            "Epoch 30: 539.497\n",
            "Epoch 40: 506.994\n",
            "Epoch 50: 477.380\n",
            "Epoch 60: 450.390\n",
            "Epoch 70: 425.801\n",
            "Epoch 80: 403.394\n",
            "Epoch 90: 382.975\n",
            "Epoch 100: 364.368\n",
            "Epoch 110: 347.413\n",
            "Epoch 120: 331.962\n",
            "Epoch 130: 317.883\n",
            "Epoch 140: 305.053\n",
            "Epoch 150: 293.364\n",
            "Epoch 160: 282.711\n",
            "Epoch 170: 273.001\n",
            "Epoch 180: 264.158\n",
            "Epoch 190: 256.097\n",
            "Epoch 200: 248.751\n",
            "Epoch 210: 242.058\n",
            "Epoch 220: 235.958\n",
            "Epoch 230: 230.401\n",
            "Epoch 240: 225.338\n",
            "Epoch 250: 220.722\n",
            "Epoch 260: 216.518\n",
            "Epoch 270: 212.686\n",
            "Epoch 280: 209.194\n",
            "Epoch 290: 206.012\n",
            "Epoch 300: 203.112\n",
            "Epoch 310: 200.467\n",
            "Epoch 320: 198.062\n",
            "Epoch 330: 195.869\n",
            "Epoch 340: 193.869\n",
            "Epoch 350: 192.046\n",
            "Epoch 360: 190.386\n",
            "Epoch 370: 188.874\n",
            "Epoch 380: 187.496\n",
            "Epoch 390: 186.241\n",
            "Epoch 400: 185.096\n",
            "Epoch 410: 184.053\n",
            "Epoch 420: 183.103\n",
            "Epoch 430: 182.237\n",
            "Epoch 440: 181.447\n",
            "Epoch 450: 180.728\n",
            "Epoch 460: 180.073\n",
            "Epoch 470: 179.476\n",
            "Epoch 480: 178.932\n",
            "Epoch 490: 178.436\n",
            "Epoch 500: 177.983\n",
            "Epoch 510: 177.572\n",
            "Epoch 520: 177.197\n",
            "Epoch 530: 176.855\n",
            "Epoch 540: 176.542\n",
            "Epoch 550: 176.260\n",
            "Epoch 560: 175.999\n",
            "Epoch 570: 175.765\n",
            "Epoch 580: 175.551\n",
            "Epoch 590: 175.354\n",
            "Epoch 600: 175.176\n",
            "Epoch 610: 175.014\n",
            "Epoch 620: 174.865\n",
            "Epoch 630: 174.731\n",
            "Epoch 640: 174.608\n",
            "Epoch 650: 174.494\n",
            "Epoch 660: 174.393\n",
            "Epoch 670: 174.300\n",
            "Epoch 680: 174.215\n",
            "Epoch 690: 174.138\n",
            "Epoch 700: 174.068\n",
            "Epoch 710: 174.003\n",
            "Epoch 720: 173.944\n",
            "Epoch 730: 173.891\n",
            "Epoch 740: 173.843\n",
            "Epoch 750: 173.799\n",
            "Epoch 760: 173.758\n",
            "Epoch 770: 173.722\n",
            "Epoch 780: 173.688\n",
            "Epoch 790: 173.658\n",
            "Epoch 800: 173.629\n",
            "Epoch 810: 173.605\n",
            "Epoch 820: 173.581\n",
            "Epoch 830: 173.561\n",
            "Epoch 840: 173.541\n",
            "Epoch 850: 173.524\n",
            "Epoch 860: 173.508\n",
            "Epoch 870: 173.493\n",
            "Epoch 880: 173.480\n",
            "Epoch 890: 173.467\n",
            "Epoch 900: 173.457\n",
            "Epoch 910: 173.447\n",
            "Epoch 920: 173.437\n",
            "Epoch 930: 173.429\n",
            "Epoch 940: 173.422\n",
            "Epoch 950: 173.415\n",
            "Epoch 960: 173.409\n",
            "Epoch 970: 173.403\n",
            "Epoch 980: 173.398\n",
            "Epoch 990: 173.393\n",
            "Epoch 1000: 173.388\n",
            "Epoch 1010: 173.385\n",
            "Epoch 1020: 173.382\n",
            "Epoch 1030: 173.378\n",
            "Epoch 1040: 173.375\n",
            "Epoch 1050: 173.372\n",
            "Epoch 1060: 173.370\n",
            "Epoch 1070: 173.367\n",
            "Epoch 1080: 173.366\n",
            "Epoch 1090: 173.364\n",
            "Epoch 1100: 173.362\n",
            "Epoch 1110: 173.360\n",
            "Epoch 1120: 173.359\n",
            "Epoch 1130: 173.358\n",
            "Epoch 1140: 173.357\n",
            "Epoch 1150: 173.356\n",
            "Epoch 1160: 173.354\n",
            "Epoch 1170: 173.353\n",
            "Epoch 1180: 173.353\n",
            "Epoch 1190: 173.351\n",
            "Epoch 1200: 173.351\n",
            "Epoch 1210: 173.350\n",
            "Epoch 1220: 173.350\n",
            "Epoch 1230: 173.348\n",
            "Epoch 1240: 173.349\n",
            "Epoch 1250: 173.348\n",
            "Epoch 1260: 173.348\n",
            "Epoch 1270: 173.348\n",
            "Epoch 1280: 173.348\n",
            "Epoch 1290: 173.347\n",
            "Epoch 1300: 173.347\n",
            "Epoch 1310: 173.345\n",
            "Epoch 1320: 173.347\n",
            "Epoch 1330: 173.346\n",
            "Epoch 1340: 173.346\n",
            "Epoch 1350: 173.346\n",
            "Epoch 1360: 173.346\n",
            "Epoch 1370: 173.346\n",
            "Epoch 1380: 173.345\n",
            "Epoch 1390: 173.345\n",
            "Epoch 1400: 173.346\n",
            "Epoch 1410: 173.345\n",
            "Epoch 1420: 173.345\n",
            "Epoch 1430: 173.345\n",
            "Epoch 1440: 173.345\n",
            "Epoch 1450: 173.344\n",
            "Epoch 1460: 173.344\n",
            "Epoch 1470: 173.345\n",
            "Epoch 1480: 173.345\n",
            "Epoch 1490: 173.345\n",
            "Epoch 1500: 173.345\n",
            "Epoch 1510: 173.345\n",
            "Epoch 1520: 173.345\n",
            "Epoch 1530: 173.345\n",
            "Epoch 1540: 173.345\n",
            "Epoch 1550: 173.345\n",
            "Epoch 1560: 173.343\n",
            "Epoch 1570: 173.345\n",
            "Epoch 1580: 173.344\n",
            "Epoch 1590: 173.344\n",
            "Epoch 1600: 173.344\n",
            "Epoch 1610: 173.344\n",
            "Epoch 1620: 173.345\n",
            "Epoch 1630: 173.345\n",
            "Epoch 1640: 173.345\n",
            "Epoch 1650: 173.344\n",
            "Epoch 1660: 173.345\n",
            "Epoch 1670: 173.345\n",
            "Epoch 1680: 173.344\n",
            "Epoch 1690: 173.345\n",
            "Epoch 1700: 173.345\n",
            "Epoch 1710: 173.343\n",
            "Epoch 1720: 173.344\n",
            "Epoch 1730: 173.344\n",
            "Epoch 1740: 173.344\n",
            "Epoch 1750: 173.343\n",
            "Epoch 1760: 173.342\n",
            "Epoch 1770: 173.344\n",
            "Epoch 1780: 173.345\n",
            "Epoch 1790: 173.343\n",
            "Epoch 1800: 173.344\n",
            "Epoch 1810: 173.344\n",
            "Epoch 1820: 173.344\n",
            "Epoch 1830: 173.344\n",
            "Epoch 1840: 173.344\n",
            "Epoch 1850: 173.344\n",
            "Epoch 1860: 173.344\n",
            "Epoch 1870: 173.344\n",
            "Epoch 1880: 173.343\n",
            "Epoch 1890: 173.344\n",
            "Epoch 1900: 173.344\n",
            "Epoch 1910: 173.344\n",
            "Epoch 1920: 173.344\n",
            "Epoch 1930: 173.344\n",
            "Epoch 1940: 173.344\n",
            "Epoch 1950: 173.344\n",
            "Epoch 1960: 173.344\n",
            "Epoch 1970: 173.343\n",
            "Epoch 1980: 173.343\n",
            "Epoch 1990: 173.344\n"
          ]
        }
      ]
    },
    {
      "cell_type": "markdown",
      "source": [
        "대충 173 근처에서 loss가 saturate되는 것을 알 수 있음 => 대충 1000번쯤 iteration 멈추는게 맞았음"
      ],
      "metadata": {
        "id": "M8EDXekhxtJt"
      }
    },
    {
      "cell_type": "code",
      "source": [
        "#optimal, GDM 결과 비슷함 (크게 다르지 않음을 실험적으로 알 수 있음!)\n",
        "print(w,b)\n",
        "print(optimal)"
      ],
      "metadata": {
        "colab": {
          "base_uri": "https://localhost:8080/"
        },
        "id": "9ivaeNM-xl8e",
        "outputId": "4c2fe7b4-9080-42f8-d219-21c30849e85e"
      },
      "execution_count": null,
      "outputs": [
        {
          "output_type": "stream",
          "name": "stdout",
          "text": [
            "-0.40336505196464284 1.158615707842584\n",
            "[-0.40338784  1.15871901]\n"
          ]
        }
      ]
    },
    {
      "cell_type": "code",
      "source": [
        "plt.title(\"Samples\")\n",
        "plt.xlabel(\"X Values\")\n",
        "plt.ylabel(\"Y Values\")\n",
        "plt.scatter(data[:,0], data[:,1],s=4)\n",
        "plt.plot([min_val, max_val], [w*min_val+b, w*max_val+b],color=\"r\")\n",
        "plt.show()"
      ],
      "metadata": {
        "colab": {
          "base_uri": "https://localhost:8080/",
          "height": 295
        },
        "id": "xDztB_yTyVS-",
        "outputId": "dee087ae-7d7f-4634-89e6-4038d9ab71f5"
      },
      "execution_count": null,
      "outputs": [
        {
          "output_type": "display_data",
          "data": {
            "text/plain": [
              "<Figure size 432x288 with 1 Axes>"
            ],
            "image/png": "[encoded data removed]"
          },
          "metadata": {
            "needs_background": "light"
          }
        }
      ]
    },
    {
      "cell_type": "markdown",
      "source": [
        "sin function을 정확하게 모델링하지는 못하지만, 이 데이터의 linear relationship을 가장 잘 모델링하는 라인이 다음과 같이 그려진 것."
      ],
      "metadata": {
        "id": "a9q04KmfyYUa"
      }
    },
    {
      "cell_type": "code",
      "source": [
        "#loss function\n",
        "plt.title(\"Loss\")\n",
        "plt.xlabel(\"Epoch\")\n",
        "plt.ylabel(\"Total Loss\")\n",
        "plt.plot(loss_list)\n",
        "plt.show()"
      ],
      "metadata": {
        "colab": {
          "base_uri": "https://localhost:8080/",
          "height": 295
        },
        "id": "WN9xe42GyjeV",
        "outputId": "741ac942-2040-4915-c281-1a37cbfb50da"
      },
      "execution_count": null,
      "outputs": [
        {
          "output_type": "display_data",
          "data": {
            "text/plain": [
              "<Figure size 432x288 with 1 Axes>"
            ],
            "image/png": "[encoded data removed]"
          },
          "metadata": {
            "needs_background": "light"
          }
        }
      ]
    },
    {
      "cell_type": "markdown",
      "source": [
        "아까와는 다르게 extreme하게 수렴하지 않고, 곡선형태로 어느 정도 epoch이 지나가야 수렴하는 것을 확인할 수 있음\n",
        "(데이터가 linear regression에 fit한 데이터가 아니기 때문에 w,b 이 학습되는데 어느 정도 시간이 걸렸음을 의미)"
      ],
      "metadata": {
        "id": "65lVAbcNyn9y"
      }
    }
  ]
}